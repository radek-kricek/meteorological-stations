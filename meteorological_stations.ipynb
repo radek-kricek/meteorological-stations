{
 "cells": [
  {
   "cell_type": "markdown",
   "id": "402673d7",
   "metadata": {},
   "source": [
    "# Create an animation of hexagonal map of Germany, showing mean temperature"
   ]
  },
  {
   "cell_type": "markdown",
   "id": "abdb96db",
   "metadata": {},
   "source": [
    "In this project, I create a database using **Google Cloud Console** and upload large amount of meteorological data from weather stations around the world. Then I will use this database to filter for relevant information to show the use of postgreSQL. I will do this using Jupyter notebook and **SQLAlchemy** library of Python.\n",
    "\n",
    "The final goal as an **animated hexagonal map of Germany**, showing for each displayed year the mean temperature in given hexagon.\n",
    "\n",
    "The data used is available at European Climate Assessment & Dataset as 'Daily mean temperature TG' and has around 7.5 GB."
   ]
  },
  {
   "cell_type": "markdown",
   "id": "617f3ef8",
   "metadata": {},
   "source": [
    "## Importing libraries and packages"
   ]
  },
  {
   "cell_type": "code",
   "execution_count": null,
   "id": "5890d4a3",
   "metadata": {},
   "outputs": [],
   "source": [
    "import os   # to work with files in folders\n",
    "import pandas as pd   # to work with data frames\n",
    "from tqdm import tqdm   # to check computation progress\n",
    "\n",
    "# to communicate with Google Cloud database:\n",
    "from dotenv import dotenv_values   # to configure the access\n",
    "from sqlalchemy import create_engine, text   # to use postgreSQL in Python\n",
    "\n",
    "# for plotting\n",
    "import plotly.figure_factory as ff   # for hexagonal map\n",
    "import plotly.graph_objects as go   # for captions\n",
    "import plotly.io as pio   # to save animation as HTML file"
   ]
  },
  {
   "cell_type": "markdown",
   "id": "cdd1627f",
   "metadata": {},
   "source": [
    "## Concatenating files into one data frame"
   ]
  },
  {
   "cell_type": "markdown",
   "id": "2a0305c6",
   "metadata": {},
   "source": [
    "Define a function to load datasets from files, clean column names, make a data frame with dates and measurements and skip unrelevant columns (quality indicator q_tg = 0).\n",
    "\n",
    "The data frame contains **the station ID, date and temperature**."
   ]
  },
  {
   "cell_type": "code",
   "execution_count": null,
   "id": "5ede0de2",
   "metadata": {},
   "outputs": [],
   "source": [
    "def parse_file(filename):\n",
    "    df = pd.read_csv(f'../data/ECA_blend_tg/{filename}', skiprows=19)   # first rows not part of the data frame\n",
    "    df.columns = df.columns.str.lower().str.strip()   # cleaning column names\n",
    "    df['date'] = pd.to_datetime(df['date'], format = '%Y%m%d')   # date in the correct format\n",
    "    df = df[df['q_tg'] == 0]   # only relevant observations\n",
    "    df.pop('souid')   # drop column\n",
    "    df.pop('q_tg')   # drop column\n",
    "    return df"
   ]
  },
  {
   "cell_type": "markdown",
   "id": "7d0d100b",
   "metadata": {},
   "source": [
    "Show list of files in the directory with data."
   ]
  },
  {
   "cell_type": "code",
   "execution_count": null,
   "id": "832f2ad4",
   "metadata": {},
   "outputs": [],
   "source": [
    "os.listdir('../data/ECA_blend_tg')"
   ]
  },
  {
   "cell_type": "markdown",
   "id": "556e738a",
   "metadata": {},
   "source": [
    "Make a new CSV file to append data from all partial data files using the pre-defined function parse_file()."
   ]
  },
  {
   "cell_type": "code",
   "execution_count": null,
   "id": "0961cd3b",
   "metadata": {},
   "outputs": [],
   "source": [
    "with open(\"../data/ECA_blend_tg/mean_temperature.csv\", mode=\"w\", newline='') as file:   # open CSV file for writing\n",
    "    for filename in tqdm(os.listdir('../data/ECA_blend_tg')):   # check progress, go through all files in the folder\n",
    "        if 'TG_STAID' in filename:   # use only relevant measurement files\n",
    "            df = parse_file(filename)   # apply pre-defined parse function\n",
    "            df.to_csv(file, index=False, header=False)   # write into the open CSV file"
   ]
  },
  {
   "cell_type": "markdown",
   "id": "7f550ef8",
   "metadata": {},
   "source": [
    "## Set-up of the database"
   ]
  },
  {
   "cell_type": "markdown",
   "id": "f18cb5db",
   "metadata": {},
   "source": [
    "Log into the cloud, 'climate' database using .env file."
   ]
  },
  {
   "cell_type": "code",
   "execution_count": null,
   "id": "784dfb91",
   "metadata": {},
   "outputs": [],
   "source": [
    "config = dotenv_values('.env')\n",
    "\n",
    "username = config['USER']\n",
    "password = config['PASS']\n",
    "host = config['HOST']\n",
    "port = config['PORT']\n",
    "\n",
    "url = f'postgresql://{username}:{password}@{host}:{port}/climate'\n",
    "\n",
    "engine = create_engine(url, echo=False)"
   ]
  },
  {
   "cell_type": "markdown",
   "id": "09967e7f",
   "metadata": {},
   "source": [
    "Create table for mean temperatures."
   ]
  },
  {
   "cell_type": "code",
   "execution_count": null,
   "id": "d5c6da29",
   "metadata": {},
   "outputs": [],
   "source": [
    "with engine.begin() as conn:\n",
    "    conn.execute(text(\"DROP TABLE IF EXISTS mean_temperature CASCADE;\"))\n",
    "        # CASCADE to drop even if it is bound to other tables by foreign keys\n",
    "    conn.execute(text(\"\"\"\n",
    "        CREATE TABLE mean_temperature (\n",
    "            staid INT,\n",
    "            date date,\n",
    "            tg INT\n",
    "        );\n",
    "    \"\"\"))"
   ]
  },
  {
   "cell_type": "markdown",
   "id": "d7f9f8e0",
   "metadata": {},
   "source": [
    "Load data into the table."
   ]
  },
  {
   "cell_type": "code",
   "execution_count": null,
   "id": "6f323f46",
   "metadata": {},
   "outputs": [],
   "source": [
    "df = pd.read_csv('../data/mean_temperature.csv')\n",
    "df.to_sql('mean_temperature', engine, if_exists='append', index=False)"
   ]
  },
  {
   "cell_type": "markdown",
   "id": "960ea540",
   "metadata": {},
   "source": [
    "Analogically, we create **table 'stations'**.\n",
    "\n",
    "The 'stations' table contains information on **the countries where each station is located and its coordinates**."
   ]
  },
  {
   "cell_type": "code",
   "execution_count": null,
   "id": "67344b61",
   "metadata": {},
   "outputs": [],
   "source": [
    "# loading TXT file\n",
    "df_stations = pd.read_csv('../data/ECA_blend_tg/stations.txt', skiprows = 17)\n",
    "\n",
    "# cleaning columns\n",
    "df_stations.columns = df_stations.columns.str.lower().str.strip()\n",
    "\n",
    "# creating tabnle in database\n",
    "with engine.begin() as conn:\n",
    "    conn.execute(text(\"DROP TABLE IF EXISTS stations CASCADE;\"))\n",
    "    conn.execute(text(\"\"\"\n",
    "        CREATE TABLE stations (\n",
    "            staid INT PRIMARY KEY,\n",
    "            staname VARCHAR,\n",
    "            cn VARCHAR(2),\n",
    "            lat VARCHAR(9),\n",
    "            lon VARCHAR(10),\n",
    "            hght INT\n",
    "        );\n",
    "    \"\"\"))\n",
    "    \n",
    "# loading data into table\n",
    "df_stations.to_sql('stations', engine, if_exists='append', index=False)"
   ]
  },
  {
   "cell_type": "markdown",
   "id": "20dfd56b",
   "metadata": {},
   "source": [
    "## Making the animated map"
   ]
  },
  {
   "cell_type": "markdown",
   "id": "60d38435",
   "metadata": {},
   "source": [
    "Create a derived table called yearly_mean_temperature that contains the yearly temperature averages for all weather stations from the mean_temperature table."
   ]
  },
  {
   "cell_type": "code",
   "execution_count": null,
   "id": "ef2bc229",
   "metadata": {},
   "outputs": [],
   "source": [
    "with engine.begin() as conn:\n",
    "    result = conn.execute(text(\"\"\"\n",
    "    DROP TABLE IF EXISTS yearly_mean_temperature CASCADE;\n",
    "    CREATE TABLE yearly_mean_temperature AS\n",
    "    SELECT staid, AVG(tg) AS yearly_temp, year\n",
    "    FROM (\n",
    "        SELECT staid,\n",
    "            DATE_PART('year', date)::INTEGER AS year,\n",
    "            tg\n",
    "        FROM mean_temperature\n",
    "    ) AS subquery\n",
    "    GROUP BY staid, year\n",
    "    ;\n",
    "    \"\"\"))"
   ]
  },
  {
   "cell_type": "markdown",
   "id": "1bf8c17c",
   "metadata": {},
   "source": [
    "Use JOIN to load yearly data only for German stations. Use only each 5th year for the animation."
   ]
  },
  {
   "cell_type": "code",
   "execution_count": null,
   "id": "4a3c1681",
   "metadata": {},
   "outputs": [],
   "source": [
    "with engine.begin() as conn:\n",
    "    result = conn.execute(text(\"\"\"\n",
    "    SELECT staid, year, yearly_temp, latitude, longitude\n",
    "    FROM yearly_mean_temperature\n",
    "    JOIN stations\n",
    "    USING(staid)\n",
    "    WHERE cn='DE' AND year BETWEEN 1950 AND 2022 AND (year+3)%5 = 0\n",
    "    ;\n",
    "    \"\"\"))\n",
    "    rows = result.all()"
   ]
  },
  {
   "cell_type": "markdown",
   "id": "a04eccf4",
   "metadata": {},
   "source": [
    "Create a Pandas data frame from the results."
   ]
  },
  {
   "cell_type": "code",
   "execution_count": null,
   "id": "a34c6ac7",
   "metadata": {},
   "outputs": [],
   "source": [
    "df_germany_5y = pd.DataFrame(rows)\n",
    "df_germany_5y['latitude'] = df_germany_5y['latitude'].astype('float')\n",
    "df_germany_5y['longitude'] = df_germany_5y['longitude'].astype('float')\n",
    "df_germany_5y['yearly_temp'] = df_germany_5y['yearly_temp'].astype('float')/10\n",
    "    # the temperature is given in tenths of degrees of Celsius in the original dataset"
   ]
  },
  {
   "cell_type": "markdown",
   "id": "03880f73",
   "metadata": {},
   "source": [
    "Plot the hexagonal animated map."
   ]
  },
  {
   "cell_type": "code",
   "execution_count": null,
   "id": "a46f6e14",
   "metadata": {},
   "outputs": [],
   "source": [
    "# plot and animate\n",
    "fig_5y = ff.create_hexbin_mapbox(\n",
    "    data_frame=df_germany_5y,\n",
    "    lat='latitude',\n",
    "    lon='longitude',\n",
    "    opacity=0.9,\n",
    "    mapbox_style='carto-darkmatter',   # map layout background\n",
    "    height=650,\n",
    "    center={'lat': 51.1657, 'lon': 10.4515},   # center of the map view\n",
    "    color='yearly_temp',\n",
    "    nx_hexagon=13,   # width of the hexagonal area inside of the map expressed as number of hexagons\n",
    "    zoom=4,   # zoom of the map view\n",
    "    labels={'color': '<i>t</i><sub>avg</sub> (°C)', 'frame':'year'},   # labels correct for physicists\n",
    "    animation_frame='year',  # animation by year\n",
    "    title = 'Average temperature in Germany'\n",
    ")\n",
    "\n",
    "# dynamic captions:\n",
    "for frame in fig_5y.frames:\n",
    "    year = frame['name']\n",
    "    caption = f'{year}'\n",
    "    # add the caption as an annotation for each frame:\n",
    "    frame['layout'].update(\n",
    "        annotations=[\n",
    "            go.layout.Annotation(\n",
    "                text=caption,\n",
    "                showarrow=False,\n",
    "                x=0.2,\n",
    "                y=0.95,\n",
    "                xanchor='left',\n",
    "                yanchor='top',\n",
    "                font=dict(size=25, color='white'),\n",
    "                bgcolor='black',\n",
    "                opacity=0.8\n",
    "            )\n",
    "        ]\n",
    "    )\n",
    "\n",
    "pio.write_html(fig_5y, 'hexbin_map.html')   # save as HTML file\n",
    "fig_5y.show()   # show in the notebook"
   ]
  }
 ],
 "metadata": {
  "kernelspec": {
   "display_name": "Python 3 (ipykernel)",
   "language": "python",
   "name": "python3"
  },
  "language_info": {
   "codemirror_mode": {
    "name": "ipython",
    "version": 3
   },
   "file_extension": ".py",
   "mimetype": "text/x-python",
   "name": "python",
   "nbconvert_exporter": "python",
   "pygments_lexer": "ipython3",
   "version": "3.10.10"
  }
 },
 "nbformat": 4,
 "nbformat_minor": 5
}
